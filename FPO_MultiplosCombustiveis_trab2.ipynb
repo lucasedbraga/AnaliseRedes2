{
  "cells": [
    {
      "cell_type": "markdown",
      "metadata": {
        "id": "jLbL_4ECnjvX"
      },
      "source": [
        "# Despacho Economico - Operação"
      ]
    },
    {
      "cell_type": "code",
      "execution_count": 1,
      "metadata": {
        "colab": {
          "base_uri": "https://localhost:8080/",
          "height": 245
        },
        "id": "4X1dT6HFYUda",
        "outputId": "e87e1b79-aebc-447c-d9f0-ed5e29317047"
      },
      "outputs": [],
      "source": [
        "import numpy as np\n",
        "import pandas as pd\n",
        "import math as m\n",
        "import cmath\n",
        "\n",
        "\n",
        "HORA = 1\n",
        "PB = 100\n",
        "\n",
        "#Dados de Geração\n",
        "\n",
        "DGER = {\n",
        "    \"Barra\": [1,1,2,3,3],\n",
        "    \"UTE\": [1,1,2,3,3],\n",
        "    \"Combustivel\": [1,2,2,1,2],\n",
        "    \"A\": [26.97,26.97,1.865,69.79,69.79],\n",
        "    \"B\": [1.3975,3.9120,22.355,15.3116,18.66],\n",
        "    \"C\": [0.002176,0.008176,0.001938,0.001457,0.001957],\n",
        "    \"GerMax\":  [196/PB, 250/PB,157/PB,332/PB,388/PB],\n",
        "    \"GerMin\":  [0,197/PB,0,0,333/PB],\n",
        "\n",
        "}\n",
        "\n",
        "DEMANDA = {\n",
        "    \"Barra\": [1,2,3],\n",
        "    \"H1\": [0,57/PB,480/PB],\n",
        "}\n",
        "\n",
        "#Dados de Linha para informar conexões elétricas\n",
        "\n",
        "DLIN = {\n",
        "    \"From\": [1,1,2],\n",
        "    \"To\":   [2,3,3],\n",
        "    \"xkm\":  [70/PB,100/PB,40/PB],\n",
        "    \"Limite\": [200/PB,300/PB,100/PB]\n",
        "}\n",
        "\n",
        "DBAR = int(max([max(DLIN[\"From\"]),max(DLIN[\"To\"])]))\n",
        "Ybar = np.zeros((DBAR ,DBAR)) #, dtype=\"complex\")"
      ]
    },
    {
      "cell_type": "code",
      "execution_count": 2,
      "metadata": {
        "id": "2i0fXSuMYRU1"
      },
      "outputs": [],
      "source": [
        "for i in range(len(DLIN[\"From\"])):\n",
        "  f = DLIN[\"From\"][i] -1\n",
        "  to = DLIN[\"To\"][i] -1\n",
        "  y_pos = DLIN[\"xkm\"][i]\n",
        "  ykm = y_pos\n",
        "  # Adicionando todas as admitancias na diagonal\n",
        "  Ybar[f,f] = Ybar[f,f] + ykm\n",
        "  if f != to:\n",
        "    Ybar[to,to] = Ybar[to,to] + ykm\n",
        "  # Adicionando fora da diagonal\n",
        "    Ybar[f,to] = Ybar[f,to] - ykm\n",
        "    Ybar[to,f] = Ybar[f,to]"
      ]
    },
    {
      "cell_type": "code",
      "execution_count": 3,
      "metadata": {
        "id": "nUJcYDq6eTcY"
      },
      "outputs": [
        {
          "data": {
            "text/html": [
              "<div>\n",
              "<style scoped>\n",
              "    .dataframe tbody tr th:only-of-type {\n",
              "        vertical-align: middle;\n",
              "    }\n",
              "\n",
              "    .dataframe tbody tr th {\n",
              "        vertical-align: top;\n",
              "    }\n",
              "\n",
              "    .dataframe thead th {\n",
              "        text-align: right;\n",
              "    }\n",
              "</style>\n",
              "<table border=\"1\" class=\"dataframe\">\n",
              "  <thead>\n",
              "    <tr style=\"text-align: right;\">\n",
              "      <th></th>\n",
              "      <th>1</th>\n",
              "      <th>2</th>\n",
              "      <th>3</th>\n",
              "    </tr>\n",
              "  </thead>\n",
              "  <tbody>\n",
              "    <tr>\n",
              "      <th>1</th>\n",
              "      <td>1.7</td>\n",
              "      <td>-0.7</td>\n",
              "      <td>-1.0</td>\n",
              "    </tr>\n",
              "    <tr>\n",
              "      <th>2</th>\n",
              "      <td>-0.7</td>\n",
              "      <td>1.1</td>\n",
              "      <td>-0.4</td>\n",
              "    </tr>\n",
              "    <tr>\n",
              "      <th>3</th>\n",
              "      <td>-1.0</td>\n",
              "      <td>-0.4</td>\n",
              "      <td>1.4</td>\n",
              "    </tr>\n",
              "  </tbody>\n",
              "</table>\n",
              "</div>"
            ],
            "text/plain": [
              "     1    2    3\n",
              "1  1.7 -0.7 -1.0\n",
              "2 -0.7  1.1 -0.4\n",
              "3 -1.0 -0.4  1.4"
            ]
          },
          "execution_count": 3,
          "metadata": {},
          "output_type": "execute_result"
        }
      ],
      "source": [
        "df_YBAR = pd.DataFrame(Ybar, index=np.arange(1,DBAR+1), columns=np.arange(1,DBAR+1))\n",
        "df_YBAR"
      ]
    },
    {
      "cell_type": "code",
      "execution_count": 4,
      "metadata": {
        "id": "3m2A7AJjcwTy"
      },
      "outputs": [
        {
          "name": "stdout",
          "output_type": "stream",
          "text": [
            "4 RangeSet Declarations\n",
            "    AtivaGerador_index : Dimen=1, Size=5, Bounds=(1, 5)\n",
            "        Key  : Finite : Members\n",
            "        None :   True :   [1:5]\n",
            "    Defict_index : Dimen=1, Size=3, Bounds=(1, 3)\n",
            "        Key  : Finite : Members\n",
            "        None :   True :   [1:3]\n",
            "    PG_index : Dimen=1, Size=5, Bounds=(1, 5)\n",
            "        Key  : Finite : Members\n",
            "        None :   True :   [1:5]\n",
            "    theta_index : Dimen=1, Size=3, Bounds=(1, 3)\n",
            "        Key  : Finite : Members\n",
            "        None :   True :   [1:3]\n",
            "\n",
            "4 Var Declarations\n",
            "    AtivaGerador : Size=5, Index=AtivaGerador_index\n",
            "        Key : Lower : Value : Upper : Fixed : Stale : Domain\n",
            "          1 :     0 :  None :     1 : False :  True : Binary\n",
            "          2 :     0 :  None :     1 : False :  True : Binary\n",
            "          3 :     0 :  None :     1 : False :  True : Binary\n",
            "          4 :     0 :  None :     1 : False :  True : Binary\n",
            "          5 :     0 :  None :     1 : False :  True : Binary\n",
            "    Defict : Size=3, Index=Defict_index\n",
            "        Key : Lower : Value : Upper : Fixed : Stale : Domain\n",
            "          1 :     0 :  None :  None : False :  True : NonNegativeReals\n",
            "          2 :     0 :  None :  None : False :  True : NonNegativeReals\n",
            "          3 :     0 :  None :  None : False :  True : NonNegativeReals\n",
            "    PG : Size=5, Index=PG_index\n",
            "        Key : Lower : Value : Upper : Fixed : Stale : Domain\n",
            "          1 :     0 :  None :  None : False :  True : NonNegativeReals\n",
            "          2 :     0 :  None :  None : False :  True : NonNegativeReals\n",
            "          3 :     0 :  None :  None : False :  True : NonNegativeReals\n",
            "          4 :     0 :  None :  None : False :  True : NonNegativeReals\n",
            "          5 :     0 :  None :  None : False :  True : NonNegativeReals\n",
            "    theta : Size=3, Index=theta_index\n",
            "        Key : Lower              : Value : Upper             : Fixed : Stale : Domain\n",
            "          1 : -3.141592653589793 :  None : 3.141592653589793 : False :  True :  Reals\n",
            "          2 : -3.141592653589793 :  None : 3.141592653589793 : False :  True :  Reals\n",
            "          3 : -3.141592653589793 :  None : 3.141592653589793 : False :  True :  Reals\n",
            "\n",
            "8 Declarations: theta_index theta PG_index PG Defict_index Defict AtivaGerador_index AtivaGerador\n"
          ]
        }
      ],
      "source": [
        "from pyomo.environ import *\n",
        "model = ConcreteModel()\n",
        "\n",
        "# declare decision variables\n",
        "model.theta = Var(RangeSet(1,DBAR), domain=Reals, bounds=(-m.pi, m.pi))\n",
        "model.PG = Var(RangeSet(1,len(DGER['UTE'])), domain=NonNegativeReals)\n",
        "model.Defict = Var(RangeSet(1,DBAR), domain=NonNegativeReals)\n",
        "model.AtivaGerador = Var(RangeSet(1,len(DGER['UTE'])),domain=Binary)\n",
        "model.pprint()\n"
      ]
    },
    {
      "cell_type": "code",
      "execution_count": 5,
      "metadata": {
        "id": "Cj0A8FIZlPXp"
      },
      "outputs": [],
      "source": [
        "#FuncaoObjetivo\n",
        "model.profit = Objective(expr = sum(\n",
        "                                    model.AtivaGerador[i]*(\n",
        "                                        (DGER['A'][i-1]) \n",
        "                                        + (model.PG[i]*(DGER['B'][i-1]))\n",
        "                                        + ((model.PG[i]**2)*(DGER['C'][i-1]))\n",
        "                                    )\n",
        "                                    + (1000*model.Defict[DGER['Barra'][i-1]])\n",
        "                                    for i in model.PG_index),\n",
        "                         sense=minimize)"
      ]
    },
    {
      "cell_type": "code",
      "execution_count": 6,
      "metadata": {
        "id": "btZcvLXk0Jhh"
      },
      "outputs": [],
      "source": [
        "#Restricao de GeracaoMax\n",
        "model.GerMax = ConstraintList()\n",
        "for i in range(len(DGER['GerMax'])):\n",
        "  model.GerMax.add(model.PG[i+1] <= DGER['GerMax'][i])\n",
        "\n",
        "#Restricao de GeracaoMin\n",
        "model.GerMin = ConstraintList()\n",
        "for i in range(len(DGER['GerMin'])):\n",
        "  model.GerMin.add(model.PG[i+1] >= DGER['GerMin'][i])"
      ]
    },
    {
      "cell_type": "code",
      "execution_count": 7,
      "metadata": {},
      "outputs": [
        {
          "data": {
            "text/plain": [
              "<pyomo.core.base.constraint._GeneralConstraintData at 0x7f8ce6d0f1c0>"
            ]
          },
          "execution_count": 7,
          "metadata": {},
          "output_type": "execute_result"
        }
      ],
      "source": [
        "# Restrcao Unico Combustivel\n",
        "model.EscolhaCombustivel = ConstraintList()\n",
        "model.EscolhaCombustivel.add(model.AtivaGerador[1] + model.AtivaGerador[2] == 1)\n",
        "model.EscolhaCombustivel.add(model.AtivaGerador[4] + model.AtivaGerador[5] == 1)"
      ]
    },
    {
      "cell_type": "code",
      "execution_count": 8,
      "metadata": {},
      "outputs": [],
      "source": [
        "GeracaoBarra = [ model.AtivacaoGerador[1]*model.PG[1] + model.AtivacaoGerador[2]*model.PG[2],\n",
        "                 model.AtivacaoGerador[3]*model.PG[3],\n",
        "                 model.AtivacaoGerador[4]* model.PG[4] + model.AtivacaoGerador[5]*model.PG[5] ] "
      ]
    },
    {
      "cell_type": "code",
      "execution_count": 9,
      "metadata": {
        "id": "is-opolMqSfk"
      },
      "outputs": [
        {
          "name": "stdout",
          "output_type": "stream",
          "text": [
            "ERROR: Rule failed when generating expression for Constraint\n",
            "    AtendimentoDemanda with index 3: IndexError: list index out of range\n",
            "ERROR: Constructing component 'AtendimentoDemanda' from data=None failed:\n",
            "    IndexError: list index out of range\n"
          ]
        },
        {
          "ename": "IndexError",
          "evalue": "list index out of range",
          "output_type": "error",
          "traceback": [
            "\u001b[0;31m---------------------------------------------------------------------------\u001b[0m",
            "\u001b[0;31mIndexError\u001b[0m                                Traceback (most recent call last)",
            "\u001b[1;32m/home/lucasedbraga/projetos/pessoais/otm_scripts/FPO_MultiplosCombustiveis_trab2.ipynb Célula 10\u001b[0m line \u001b[0;36m<cell line: 6>\u001b[0;34m()\u001b[0m\n\u001b[1;32m      <a href='vscode-notebook-cell:/home/lucasedbraga/projetos/pessoais/otm_scripts/FPO_MultiplosCombustiveis_trab2.ipynb#X11sZmlsZQ%3D%3D?line=2'>3</a>\u001b[0m \u001b[39mdef\u001b[39;00m \u001b[39mAtendimentoDemanda\u001b[39m(model, i):\n\u001b[1;32m      <a href='vscode-notebook-cell:/home/lucasedbraga/projetos/pessoais/otm_scripts/FPO_MultiplosCombustiveis_trab2.ipynb#X11sZmlsZQ%3D%3D?line=3'>4</a>\u001b[0m     \u001b[39mreturn\u001b[39;00m \u001b[39msum\u001b[39m(Ybar[i\u001b[39m-\u001b[39m\u001b[39m1\u001b[39m, j\u001b[39m-\u001b[39m\u001b[39m1\u001b[39m] \u001b[39m*\u001b[39m model\u001b[39m.\u001b[39mtheta[j] \u001b[39mfor\u001b[39;00m j \u001b[39min\u001b[39;00m model\u001b[39m.\u001b[39mtheta_index) \u001b[39m==\u001b[39m model\u001b[39m.\u001b[39mAtivaGerador[i]\u001b[39m*\u001b[39mGeracaoBarra[i] \u001b[39m-\u001b[39m DEMANDA[\u001b[39mf\u001b[39m\u001b[39m'\u001b[39m\u001b[39mH\u001b[39m\u001b[39m{\u001b[39;00mHORA\u001b[39m}\u001b[39;00m\u001b[39m'\u001b[39m][i\u001b[39m-\u001b[39m\u001b[39m1\u001b[39m] \u001b[39m+\u001b[39m model\u001b[39m.\u001b[39mDefict[DGER[\u001b[39m'\u001b[39m\u001b[39mBarra\u001b[39m\u001b[39m'\u001b[39m][i\u001b[39m-\u001b[39m\u001b[39m1\u001b[39m]]\n\u001b[0;32m----> <a href='vscode-notebook-cell:/home/lucasedbraga/projetos/pessoais/otm_scripts/FPO_MultiplosCombustiveis_trab2.ipynb#X11sZmlsZQ%3D%3D?line=5'>6</a>\u001b[0m model\u001b[39m.\u001b[39;49mAtendimentoDemanda \u001b[39m=\u001b[39m Constraint(model\u001b[39m.\u001b[39mtheta_index, rule\u001b[39m=\u001b[39mAtendimentoDemanda)\n",
            "File \u001b[0;32m~/anaconda3/envs/otm_venv/lib/python3.10/site-packages/pyomo/core/base/block.py:639\u001b[0m, in \u001b[0;36m_BlockData.__setattr__\u001b[0;34m(self, name, val)\u001b[0m\n\u001b[1;32m    634\u001b[0m \u001b[39mif\u001b[39;00m name \u001b[39mnot\u001b[39;00m \u001b[39min\u001b[39;00m \u001b[39mself\u001b[39m\u001b[39m.\u001b[39m\u001b[39m__dict__\u001b[39m:\n\u001b[1;32m    635\u001b[0m     \u001b[39mif\u001b[39;00m \u001b[39misinstance\u001b[39m(val, Component):\n\u001b[1;32m    636\u001b[0m         \u001b[39m#\u001b[39;00m\n\u001b[1;32m    637\u001b[0m         \u001b[39m# Pyomo components are added with the add_component method.\u001b[39;00m\n\u001b[1;32m    638\u001b[0m         \u001b[39m#\u001b[39;00m\n\u001b[0;32m--> 639\u001b[0m         \u001b[39mself\u001b[39;49m\u001b[39m.\u001b[39;49madd_component(name, val)\n\u001b[1;32m    640\u001b[0m     \u001b[39melse\u001b[39;00m:\n\u001b[1;32m    641\u001b[0m         \u001b[39m#\u001b[39;00m\n\u001b[1;32m    642\u001b[0m         \u001b[39m# Other Python objects are added with the standard __setattr__\u001b[39;00m\n\u001b[1;32m    643\u001b[0m         \u001b[39m# method.\u001b[39;00m\n\u001b[1;32m    644\u001b[0m         \u001b[39m#\u001b[39;00m\n\u001b[1;32m    645\u001b[0m         \u001b[39msuper\u001b[39m(_BlockData, \u001b[39mself\u001b[39m)\u001b[39m.\u001b[39m\u001b[39m__setattr__\u001b[39m(name, val)\n",
            "File \u001b[0;32m~/anaconda3/envs/otm_venv/lib/python3.10/site-packages/pyomo/core/base/block.py:1186\u001b[0m, in \u001b[0;36m_BlockData.add_component\u001b[0;34m(self, name, val)\u001b[0m\n\u001b[1;32m   1182\u001b[0m     logger\u001b[39m.\u001b[39mdebug(\u001b[39m\"\u001b[39m\u001b[39mConstructing \u001b[39m\u001b[39m%s\u001b[39;00m\u001b[39m \u001b[39m\u001b[39m'\u001b[39m\u001b[39m%s\u001b[39;00m\u001b[39m'\u001b[39m\u001b[39m on \u001b[39m\u001b[39m%s\u001b[39;00m\u001b[39m from data=\u001b[39m\u001b[39m%s\u001b[39;00m\u001b[39m\"\u001b[39m,\n\u001b[1;32m   1183\u001b[0m                  val\u001b[39m.\u001b[39m\u001b[39m__class__\u001b[39m\u001b[39m.\u001b[39m\u001b[39m__name__\u001b[39m, name,\n\u001b[1;32m   1184\u001b[0m                  _blockName, \u001b[39mstr\u001b[39m(data))\n\u001b[1;32m   1185\u001b[0m \u001b[39mtry\u001b[39;00m:\n\u001b[0;32m-> 1186\u001b[0m     val\u001b[39m.\u001b[39;49mconstruct(data)\n\u001b[1;32m   1187\u001b[0m \u001b[39mexcept\u001b[39;00m:\n\u001b[1;32m   1188\u001b[0m     err \u001b[39m=\u001b[39m sys\u001b[39m.\u001b[39mexc_info()[\u001b[39m1\u001b[39m]\n",
            "File \u001b[0;32m~/anaconda3/envs/otm_venv/lib/python3.10/site-packages/pyomo/core/base/constraint.py:772\u001b[0m, in \u001b[0;36mConstraint.construct\u001b[0;34m(self, data)\u001b[0m\n\u001b[1;32m    769\u001b[0m     \u001b[39melse\u001b[39;00m:\n\u001b[1;32m    770\u001b[0m         \u001b[39m# Bypass the index validation and create the member directly\u001b[39;00m\n\u001b[1;32m    771\u001b[0m         \u001b[39mfor\u001b[39;00m index \u001b[39min\u001b[39;00m \u001b[39mself\u001b[39m\u001b[39m.\u001b[39mindex_set():\n\u001b[0;32m--> 772\u001b[0m             \u001b[39mself\u001b[39m\u001b[39m.\u001b[39m_setitem_when_not_present(index, rule(block, index))\n\u001b[1;32m    773\u001b[0m \u001b[39mexcept\u001b[39;00m \u001b[39mException\u001b[39;00m:\n\u001b[1;32m    774\u001b[0m     err \u001b[39m=\u001b[39m sys\u001b[39m.\u001b[39mexc_info()[\u001b[39m1\u001b[39m]\n",
            "File \u001b[0;32m~/anaconda3/envs/otm_venv/lib/python3.10/site-packages/pyomo/core/base/initializer.py:282\u001b[0m, in \u001b[0;36mIndexedCallInitializer.__call__\u001b[0;34m(self, parent, idx)\u001b[0m\n\u001b[1;32m    280\u001b[0m     \u001b[39mreturn\u001b[39;00m \u001b[39mself\u001b[39m\u001b[39m.\u001b[39m_fcn(parent, \u001b[39m*\u001b[39midx)\n\u001b[1;32m    281\u001b[0m \u001b[39melse\u001b[39;00m:\n\u001b[0;32m--> 282\u001b[0m     \u001b[39mreturn\u001b[39;00m \u001b[39mself\u001b[39;49m\u001b[39m.\u001b[39;49m_fcn(parent, idx)\n",
            "\u001b[1;32m/home/lucasedbraga/projetos/pessoais/otm_scripts/FPO_MultiplosCombustiveis_trab2.ipynb Célula 10\u001b[0m line \u001b[0;36mAtendimentoDemanda\u001b[0;34m(model, i)\u001b[0m\n\u001b[1;32m      <a href='vscode-notebook-cell:/home/lucasedbraga/projetos/pessoais/otm_scripts/FPO_MultiplosCombustiveis_trab2.ipynb#X11sZmlsZQ%3D%3D?line=2'>3</a>\u001b[0m \u001b[39mdef\u001b[39;00m \u001b[39mAtendimentoDemanda\u001b[39m(model, i):\n\u001b[0;32m----> <a href='vscode-notebook-cell:/home/lucasedbraga/projetos/pessoais/otm_scripts/FPO_MultiplosCombustiveis_trab2.ipynb#X11sZmlsZQ%3D%3D?line=3'>4</a>\u001b[0m     \u001b[39mreturn\u001b[39;00m \u001b[39msum\u001b[39m(Ybar[i\u001b[39m-\u001b[39m\u001b[39m1\u001b[39m, j\u001b[39m-\u001b[39m\u001b[39m1\u001b[39m] \u001b[39m*\u001b[39m model\u001b[39m.\u001b[39mtheta[j] \u001b[39mfor\u001b[39;00m j \u001b[39min\u001b[39;00m model\u001b[39m.\u001b[39mtheta_index) \u001b[39m==\u001b[39m model\u001b[39m.\u001b[39mAtivaGerador[i]\u001b[39m*\u001b[39mGeracaoBarra[i] \u001b[39m-\u001b[39m DEMANDA[\u001b[39mf\u001b[39m\u001b[39m'\u001b[39m\u001b[39mH\u001b[39m\u001b[39m{\u001b[39;00mHORA\u001b[39m}\u001b[39;00m\u001b[39m'\u001b[39m][i\u001b[39m-\u001b[39m\u001b[39m1\u001b[39m] \u001b[39m+\u001b[39m model\u001b[39m.\u001b[39mDefict[DGER[\u001b[39m'\u001b[39m\u001b[39mBarra\u001b[39m\u001b[39m'\u001b[39m][i\u001b[39m-\u001b[39m\u001b[39m1\u001b[39m]]\n",
            "\u001b[0;31mIndexError\u001b[0m: list index out of range"
          ]
        }
      ],
      "source": [
        "#Restricao de atendimento a Demanda\n",
        "\n",
        "def AtendimentoDemanda(model, i):\n",
        "    return sum(Ybar[i-1, j-1] * model.theta[j] for j in model.theta_index) == GeracaoBarra[i] - DEMANDA[f'H{HORA}'][i-1] + model.Defict[DGER['Barra'][i-1]]\n",
        "\n",
        "model.AtendimentoDemanda = Constraint(model.theta_index, rule=AtendimentoDemanda)\n"
      ]
    },
    {
      "cell_type": "code",
      "execution_count": null,
      "metadata": {
        "id": "k70GLeyjsPJS"
      },
      "outputs": [],
      "source": [
        "# Definição da Barra de Referencia\n",
        "model.BarraReferencia = Constraint(expr=model.theta[1] == 0)"
      ]
    },
    {
      "cell_type": "code",
      "execution_count": null,
      "metadata": {
        "id": "MyeRXm3aso56"
      },
      "outputs": [],
      "source": [
        "#Restricao do Limite de Fluxo nas linhas\n",
        "model.RestricaoFluxoPositivo = ConstraintList()\n",
        "for i in range(len(DLIN['From'])):\n",
        "    model.RestricaoFluxoPositivo.add(model.theta[DLIN['From'][i]] - model.theta[DLIN['To'][i]] <= DLIN['Limite'][i]/DLIN['xkm'][i])\n",
        "\n",
        "model.RestricaoFluxoNegativo = ConstraintList()\n",
        "for i in range(len(DLIN['From'])):\n",
        "    model.RestricaoFluxoNegativo.add(-model.theta[DLIN['From'][i]] + model.theta[DLIN['To'][i]] <= DLIN['Limite'][i]/DLIN['xkm'][i])\n"
      ]
    },
    {
      "cell_type": "code",
      "execution_count": null,
      "metadata": {
        "id": "GoHPxgrMg7yE"
      },
      "outputs": [],
      "source": [
        "model.pprint()"
      ]
    },
    {
      "cell_type": "code",
      "execution_count": null,
      "metadata": {
        "id": "10XMCkSJh5eA"
      },
      "outputs": [],
      "source": [
        "SolverFactory('couenne', executable='../../../scripts/couenne/couenne').solve(model).write()\n",
        "\n",
        "# display solution\n",
        "print('Custo de Geração = ', model.profit())\n",
        "\n",
        "print('\\n Thetas:')\n",
        "for i in model.theta_index:\n",
        "    print(f'Theta[{i}] = {value(model.theta[i])}')\n",
        "\n",
        "print('\\n Fluxo nas linhas:')\n",
        "print(f\"Linha 12 = {((value(model.theta[1])-value(model.theta[2]))*25)}\")\n",
        "print(f\"Linha 13A = {((value(model.theta[1])-value(model.theta[3]))*20)}\")\n",
        "print(f\"Linha 13B = {((value(model.theta[1])-value(model.theta[3]))*20)}\")\n",
        "print(f\"Linha 23 = {((value(model.theta[2])-value(model.theta[3]))*20)}\")\n",
        "\n",
        "print('\\n Pg:')\n",
        "for i in model.PG_index:\n",
        "    print(f'PG[{i}] = {value(model.PG[i])}')\n",
        "\n",
        "print('\\n Defict:')\n",
        "for i in model.Defict_index:\n",
        "    print(f'Defict[{i}] = {value(model.Defict[i])}')\n"
      ]
    }
  ],
  "metadata": {
    "colab": {
      "provenance": []
    },
    "kernelspec": {
      "display_name": "Python 3",
      "name": "python3"
    },
    "language_info": {
      "codemirror_mode": {
        "name": "ipython",
        "version": 3
      },
      "file_extension": ".py",
      "mimetype": "text/x-python",
      "name": "python",
      "nbconvert_exporter": "python",
      "pygments_lexer": "ipython3",
      "version": "3.10.4"
    }
  },
  "nbformat": 4,
  "nbformat_minor": 0
}
