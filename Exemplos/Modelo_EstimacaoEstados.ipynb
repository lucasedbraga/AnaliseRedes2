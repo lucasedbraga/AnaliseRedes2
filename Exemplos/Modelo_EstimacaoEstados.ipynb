{
 "cells": [
  {
   "cell_type": "markdown",
   "metadata": {},
   "source": [
    "# Modelo : Estimação de Estados"
   ]
  },
  {
   "cell_type": "code",
   "execution_count": 7,
   "metadata": {},
   "outputs": [],
   "source": [
    "import sys\n",
    "sys.path.append('../SCR/')\n",
    "\n",
    "from EstimadorDeEstados import EstimacaoDeEstados"
   ]
  },
  {
   "cell_type": "code",
   "execution_count": 8,
   "metadata": {},
   "outputs": [],
   "source": [
    "sys.path.append('../SYS/') \n",
    "from sistema_teste_4Barras import SistemaTeste_4Barras\n",
    "\n",
    "RedeEletrica_simulada = SistemaTeste_4Barras()"
   ]
  },
  {
   "cell_type": "code",
   "execution_count": 9,
   "metadata": {},
   "outputs": [],
   "source": [
    "data_SIM = {\n",
    "    \"Descrição\": \"Teste de Estimação de Estados - Sistema 4 Barras\",\n",
    "    \"Versão\": \"0.1\"\n",
    "}"
   ]
  },
  {
   "cell_type": "code",
   "execution_count": 10,
   "metadata": {},
   "outputs": [
    {
     "name": "stdout",
     "output_type": "stream",
     "text": [
      "\u001b[92m [...] Inicializando Modelo \u001b[0m\n",
      "\u001b[92m [...] Inicializando Modelo \u001b[0m\n",
      "\u001b[92m [...] Dados de Simulação Salvos \u001b[0m\n",
      "\u001b[1;33m [...] ATENÇÃO : tempo_de_rodada: = 0.090 seg ! \u001b[m\n",
      "\u001b[1;30;41m [...] ERRO !! : Fim da Rodada !!! \u001b[m\n"
     ]
    }
   ],
   "source": [
    "Estimador = EstimacaoDeEstados(RedeEletrica_simulada=RedeEletrica_simulada, data_SIM=data_SIM)"
   ]
  },
  {
   "cell_type": "code",
   "execution_count": 11,
   "metadata": {},
   "outputs": [
    {
     "name": "stdout",
     "output_type": "stream",
     "text": [
      "0    1.00000\n",
      "1    0.98552\n",
      "2    0.98000\n",
      "3    1.01000\n",
      "Name: vm_pu, dtype: float64\n",
      "0    1.000997\n",
      "1    0.986509\n",
      "2    0.980986\n",
      "3    1.010986\n",
      "Name: vm_pu, dtype: float64\n",
      "0   -0.000997\n",
      "1   -0.000989\n",
      "2   -0.000986\n",
      "3   -0.000986\n",
      "Name: vm_pu, dtype: float64\n"
     ]
    }
   ],
   "source": [
    "Estimador.compara_tensao()"
   ]
  }
 ],
 "metadata": {
  "kernelspec": {
   "display_name": "otm_venv",
   "language": "python",
   "name": "python3"
  },
  "language_info": {
   "codemirror_mode": {
    "name": "ipython",
    "version": 3
   },
   "file_extension": ".py",
   "mimetype": "text/x-python",
   "name": "python",
   "nbconvert_exporter": "python",
   "pygments_lexer": "ipython3",
   "version": "3.10.4"
  }
 },
 "nbformat": 4,
 "nbformat_minor": 2
}
