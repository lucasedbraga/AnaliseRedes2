{
 "cells": [
  {
   "cell_type": "markdown",
   "metadata": {},
   "source": [
    "# Modelo : Fluxo de Potência"
   ]
  },
  {
   "cell_type": "code",
   "execution_count": 1,
   "metadata": {},
   "outputs": [],
   "source": [
    "import sys\n",
    "sys.path.append('../SCR/')\n",
    "\n",
    "from FluxPot import FluxoDePotencia"
   ]
  },
  {
   "cell_type": "code",
   "execution_count": 2,
   "metadata": {},
   "outputs": [],
   "source": [
    "sys.path.append('../SYS/') \n",
    "from sistema_teste_4Barras import SistemaTeste_4Barras\n",
    "\n",
    "RedeEletrica_simulada = SistemaTeste_4Barras()"
   ]
  },
  {
   "cell_type": "code",
   "execution_count": 3,
   "metadata": {},
   "outputs": [],
   "source": [
    "data_SIM = {\n",
    "    \"Descrição\": \"Teste do Fluxo de Potência - Sistema 4 Barras\",\n",
    "    \"Versão\": \"0.1\"\n",
    "}"
   ]
  },
  {
   "cell_type": "code",
   "execution_count": 4,
   "metadata": {},
   "outputs": [
    {
     "ename": "TypeError",
     "evalue": "FluxoDePotencia.__init__() got an unexpected keyword argument 'data_DSIM'",
     "output_type": "error",
     "traceback": [
      "\u001b[0;31m---------------------------------------------------------------------------\u001b[0m",
      "\u001b[0;31mTypeError\u001b[0m                                 Traceback (most recent call last)",
      "Input \u001b[0;32mIn [4]\u001b[0m, in \u001b[0;36m<cell line: 1>\u001b[0;34m()\u001b[0m\n\u001b[0;32m----> 1\u001b[0m simulacao \u001b[38;5;241m=\u001b[39m \u001b[43mFluxoDePotencia\u001b[49m\u001b[43m(\u001b[49m\u001b[43mRedeEletrica_simulada\u001b[49m\u001b[38;5;241;43m=\u001b[39;49m\u001b[43mRedeEletrica_simulada\u001b[49m\u001b[43m,\u001b[49m\n\u001b[1;32m      2\u001b[0m \u001b[43m                            \u001b[49m\u001b[43mdata_DSIM\u001b[49m\u001b[38;5;241;43m=\u001b[39;49m\u001b[43mdata_SIM\u001b[49m\u001b[43m)\u001b[49m\n",
      "\u001b[0;31mTypeError\u001b[0m: FluxoDePotencia.__init__() got an unexpected keyword argument 'data_DSIM'"
     ]
    }
   ],
   "source": [
    "simulacao = FluxoDePotencia(RedeEletrica_simulada=RedeEletrica_simulada,\n",
    "                            data_SIM=data_SIM)"
   ]
  },
  {
   "cell_type": "code",
   "execution_count": null,
   "metadata": {},
   "outputs": [],
   "source": [
    "simulacao.avaliacao_tensao()"
   ]
  }
 ],
 "metadata": {
  "kernelspec": {
   "display_name": "otm_venv",
   "language": "python",
   "name": "python3"
  },
  "language_info": {
   "codemirror_mode": {
    "name": "ipython",
    "version": 3
   },
   "file_extension": ".py",
   "mimetype": "text/x-python",
   "name": "python",
   "nbconvert_exporter": "python",
   "pygments_lexer": "ipython3",
   "version": "3.10.4"
  }
 },
 "nbformat": 4,
 "nbformat_minor": 2
}
